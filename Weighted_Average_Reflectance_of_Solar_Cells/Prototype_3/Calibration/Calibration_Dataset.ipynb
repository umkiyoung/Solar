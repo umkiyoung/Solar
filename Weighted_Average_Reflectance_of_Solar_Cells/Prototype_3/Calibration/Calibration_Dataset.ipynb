{
 "cells": [
  {
   "cell_type": "markdown",
   "metadata": {},
   "source": [
    "1. 평균 색상 차이를 이용한 보정:\n",
    "이 방법은 앞서 설명한 것처럼 각 Bot 이미지의 평균 색상과 Bot_0.jpg 참조 이미지의 평균 색상 사이의 차이를 계산하여 해당하는 Top 이미지의 색상을 보정합니다."
   ]
  },
  {
   "cell_type": "code",
   "execution_count": 4,
   "metadata": {},
   "outputs": [],
   "source": [
    "import sys\n",
    "sys.path.append('../') "
   ]
  },
  {
   "cell_type": "code",
   "execution_count": 34,
   "metadata": {},
   "outputs": [
    {
     "data": {
      "text/html": [
       "<div>\n",
       "<style scoped>\n",
       "    .dataframe tbody tr th:only-of-type {\n",
       "        vertical-align: middle;\n",
       "    }\n",
       "\n",
       "    .dataframe tbody tr th {\n",
       "        vertical-align: top;\n",
       "    }\n",
       "\n",
       "    .dataframe thead th {\n",
       "        text-align: right;\n",
       "    }\n",
       "</style>\n",
       "<table border=\"1\" class=\"dataframe\">\n",
       "  <thead>\n",
       "    <tr style=\"text-align: right;\">\n",
       "      <th></th>\n",
       "      <th>Thickness</th>\n",
       "    </tr>\n",
       "  </thead>\n",
       "  <tbody>\n",
       "    <tr>\n",
       "      <th>0</th>\n",
       "      <td>48.266667</td>\n",
       "    </tr>\n",
       "    <tr>\n",
       "      <th>1</th>\n",
       "      <td>47.966667</td>\n",
       "    </tr>\n",
       "    <tr>\n",
       "      <th>2</th>\n",
       "      <td>48.166667</td>\n",
       "    </tr>\n",
       "    <tr>\n",
       "      <th>3</th>\n",
       "      <td>48.600000</td>\n",
       "    </tr>\n",
       "    <tr>\n",
       "      <th>4</th>\n",
       "      <td>59.533333</td>\n",
       "    </tr>\n",
       "    <tr>\n",
       "      <th>...</th>\n",
       "      <td>...</td>\n",
       "    </tr>\n",
       "    <tr>\n",
       "      <th>122</th>\n",
       "      <td>84.633333</td>\n",
       "    </tr>\n",
       "    <tr>\n",
       "      <th>123</th>\n",
       "      <td>98.366667</td>\n",
       "    </tr>\n",
       "    <tr>\n",
       "      <th>124</th>\n",
       "      <td>97.033333</td>\n",
       "    </tr>\n",
       "    <tr>\n",
       "      <th>125</th>\n",
       "      <td>96.266667</td>\n",
       "    </tr>\n",
       "    <tr>\n",
       "      <th>126</th>\n",
       "      <td>97.766667</td>\n",
       "    </tr>\n",
       "  </tbody>\n",
       "</table>\n",
       "<p>127 rows × 1 columns</p>\n",
       "</div>"
      ],
      "text/plain": [
       "     Thickness\n",
       "0    48.266667\n",
       "1    47.966667\n",
       "2    48.166667\n",
       "3    48.600000\n",
       "4    59.533333\n",
       "..         ...\n",
       "122  84.633333\n",
       "123  98.366667\n",
       "124  97.033333\n",
       "125  96.266667\n",
       "126  97.766667\n",
       "\n",
       "[127 rows x 1 columns]"
      ]
     },
     "execution_count": 34,
     "metadata": {},
     "output_type": "execute_result"
    }
   ],
   "source": [
    "# Thickness data\n",
    "thickness_data = pd.read_csv('../data/Thickness.csv')\n",
    "thickness_data = thickness_data.drop([33])\n",
    "thickness_data.reset_index(drop=True, inplace=True)\n",
    "thickness_data"
   ]
  },
  {
   "cell_type": "code",
   "execution_count": 55,
   "metadata": {},
   "outputs": [],
   "source": [
    "# Required Libraries\n",
    "import cv2\n",
    "import numpy as np\n",
    "import pandas as pd\n",
    "import os\n",
    "from numpy.linalg import pinv\n",
    "\n",
    "\n",
    "# 1. Average Color Difference Correction\n",
    "def apply_avg_color_diff_correction(bot_img, reference_img, top_img):\n",
    "    color_difference = np.mean(reference_img, axis=(0, 1)) - np.mean(bot_img, axis=(0, 1))\n",
    "    corrected_img = np.clip(top_img + color_difference, 0, 255).astype(np.uint8)\n",
    "    return corrected_img\n",
    "\n",
    "# 2. KY method\n",
    "def apply_ky_method(bot_img, reference_img, top_img):\n",
    "    window_img = bot_img/reference_img\n",
    "    transformed_img = top_img*window_img\n",
    "    return transformed_img\n",
    "\n",
    "def returnRGBaverage(img):\n",
    "    R = np.mean(img[:,:,2])\n",
    "    G = np.mean(img[:,:,1])\n",
    "    B = np.mean(img[:,:,0])\n",
    "    return np.array([R, G, B])\n",
    "\n",
    "# Load images\n",
    "img_path = '../data/box_img/'\n",
    "top_img_list = [f'Top_{i}.jpg' for i in range(0, 127)]\n",
    "bot_img_list = [f'Bot_{i}.jpg' for i in range(0, 127)]\n",
    "\n",
    "top_images_data = [cv2.imread(os.path.join(img_path, 'Top', img)) for img in top_img_list]\n",
    "bot_images_data = [cv2.imread(os.path.join(img_path, 'Bot', img)) for img in bot_img_list]\n",
    "reference_image_data = bot_images_data[0]\n",
    "\n",
    "transformed_images_avg = [apply_avg_color_diff_correction(bot_images_data[i], reference_image_data, top_images_data[i]) for i in range(len(top_images_data))]\n",
    "transformed_images_ky = [apply_ky_method(bot_images_data[i], reference_image_data, top_images_data[i]) for i in range(len(top_images_data))]\n",
    "\n",
    "avg_images_avg = [returnRGBaverage(img) for img in transformed_images_avg]\n",
    "avg_images_ky = [returnRGBaverage(img) for img in transformed_images_ky]\n",
    "\n",
    "avg_images_avg = pd.DataFrame(avg_images_avg, columns=['R', 'G', 'B'])\n",
    "avg_images_avg = pd.concat([avg_images_avg, thickness_data], axis=1)\n",
    "\n",
    "avg_images_ky = pd.DataFrame(avg_images_ky, columns=['R', 'G', 'B'])\n",
    "avg_images_ky = pd.concat([avg_images_ky, thickness_data], axis=1)"
   ]
  },
  {
   "cell_type": "code",
   "execution_count": 58,
   "metadata": {},
   "outputs": [],
   "source": [
    "avg_images_avg.to_csv('../data/avg_images_avg.csv', index=False)\n",
    "avg_images_ky.to_csv('../data/avg_images_ky.csv', index=False)"
   ]
  },
  {
   "cell_type": "code",
   "execution_count": null,
   "metadata": {},
   "outputs": [],
   "source": []
  }
 ],
 "metadata": {
  "kernelspec": {
   "display_name": "base",
   "language": "python",
   "name": "python3"
  },
  "language_info": {
   "codemirror_mode": {
    "name": "ipython",
    "version": 3
   },
   "file_extension": ".py",
   "mimetype": "text/x-python",
   "name": "python",
   "nbconvert_exporter": "python",
   "pygments_lexer": "ipython3",
   "version": "3.10.9"
  },
  "orig_nbformat": 4
 },
 "nbformat": 4,
 "nbformat_minor": 2
}
