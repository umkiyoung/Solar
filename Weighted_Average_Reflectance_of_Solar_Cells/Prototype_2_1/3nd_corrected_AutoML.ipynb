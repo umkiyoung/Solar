{
 "cells": [
  {
   "attachments": {},
   "cell_type": "markdown",
   "metadata": {},
   "source": [
    "## Reference 보정을 이용한 AutoML\n",
    "\n",
    "- Reference 사각형 이미지중 하나를 Base로 잡고, 다른 Reference 이미지들을 다 나누어서 Weight를 구함.\n",
    "- Weight를 비교할 원본 사각형이미지에 곱해줌\n",
    "- 곱해진 50x50이미지에 Average RGB값을 구함\n",
    "- Thickness 를 y 값으로이용해 AutoML Run"
   ]
  },
  {
   "cell_type": "code",
   "execution_count": 1,
   "metadata": {},
   "outputs": [],
   "source": [
    "import pandas as pd\n",
    "import numpy as np\n",
    "from PIL import Image \n",
    "import matplotlib.pyplot as plt\n",
    "import os\n",
    "\n",
    "import torch\n",
    "import torch.nn as nn\n",
    "import torch.nn.functional as F\n",
    "import torchvision.transforms as transforms\n",
    "import torchvision.models as models\n",
    "import torch.optim as optim\n",
    "import torchvision\n",
    "from torch.utils.data import Dataset, DataLoader\n",
    "from sklearn.model_selection import train_test_split\n",
    "import cv2"
   ]
  },
  {
   "cell_type": "code",
   "execution_count": 2,
   "metadata": {},
   "outputs": [],
   "source": [
    "Thickness = pd.read_csv('./data/Thickness.csv')\n",
    "Thickness = Thickness.drop([33]) # 9-1 drop\n",
    "Thickness.reset_index(drop=True, inplace=True)\n",
    "\n",
    "top_path = './data/box_img/Top/'\n",
    "bot_path = './data/box_img/Bot/'\n",
    "\n",
    "top_path_list = [f'./data/box_img/Top/Top_{i}.jpg' for i in range(0, 127)]\n",
    "bot_path_list = [f'./data/box_img/Bot/Bot_{i}.jpg' for i in range(0, 127)]"
   ]
  },
  {
   "cell_type": "code",
   "execution_count": 3,
   "metadata": {},
   "outputs": [
    {
     "data": {
      "text/html": [
       "<div>\n",
       "<style scoped>\n",
       "    .dataframe tbody tr th:only-of-type {\n",
       "        vertical-align: middle;\n",
       "    }\n",
       "\n",
       "    .dataframe tbody tr th {\n",
       "        vertical-align: top;\n",
       "    }\n",
       "\n",
       "    .dataframe thead th {\n",
       "        text-align: right;\n",
       "    }\n",
       "</style>\n",
       "<table border=\"1\" class=\"dataframe\">\n",
       "  <thead>\n",
       "    <tr style=\"text-align: right;\">\n",
       "      <th></th>\n",
       "      <th>Thickness</th>\n",
       "    </tr>\n",
       "  </thead>\n",
       "  <tbody>\n",
       "    <tr>\n",
       "      <th>0</th>\n",
       "      <td>48.266667</td>\n",
       "    </tr>\n",
       "    <tr>\n",
       "      <th>1</th>\n",
       "      <td>47.966667</td>\n",
       "    </tr>\n",
       "    <tr>\n",
       "      <th>2</th>\n",
       "      <td>48.166667</td>\n",
       "    </tr>\n",
       "    <tr>\n",
       "      <th>3</th>\n",
       "      <td>48.600000</td>\n",
       "    </tr>\n",
       "    <tr>\n",
       "      <th>4</th>\n",
       "      <td>59.533333</td>\n",
       "    </tr>\n",
       "    <tr>\n",
       "      <th>...</th>\n",
       "      <td>...</td>\n",
       "    </tr>\n",
       "    <tr>\n",
       "      <th>122</th>\n",
       "      <td>84.633333</td>\n",
       "    </tr>\n",
       "    <tr>\n",
       "      <th>123</th>\n",
       "      <td>98.366667</td>\n",
       "    </tr>\n",
       "    <tr>\n",
       "      <th>124</th>\n",
       "      <td>97.033333</td>\n",
       "    </tr>\n",
       "    <tr>\n",
       "      <th>125</th>\n",
       "      <td>96.266667</td>\n",
       "    </tr>\n",
       "    <tr>\n",
       "      <th>126</th>\n",
       "      <td>97.766667</td>\n",
       "    </tr>\n",
       "  </tbody>\n",
       "</table>\n",
       "<p>127 rows × 1 columns</p>\n",
       "</div>"
      ],
      "text/plain": [
       "     Thickness\n",
       "0    48.266667\n",
       "1    47.966667\n",
       "2    48.166667\n",
       "3    48.600000\n",
       "4    59.533333\n",
       "..         ...\n",
       "122  84.633333\n",
       "123  98.366667\n",
       "124  97.033333\n",
       "125  96.266667\n",
       "126  97.766667\n",
       "\n",
       "[127 rows x 1 columns]"
      ]
     },
     "execution_count": 3,
     "metadata": {},
     "output_type": "execute_result"
    }
   ],
   "source": [
    "Thickness"
   ]
  },
  {
   "attachments": {},
   "cell_type": "markdown",
   "metadata": {},
   "source": [
    "- Reference 보정을 위해 기본값을 정하고 Weight를 줘서 보정을 해주면 되지 않을까?"
   ]
  },
  {
   "cell_type": "code",
   "execution_count": 4,
   "metadata": {},
   "outputs": [],
   "source": [
    "Base_img = np.array(Image.open(top_path_list[0])) #Ref image(bot) 첫번째를 기본 이미지로 지정\n",
    "Top_transformed_list = []\n",
    "for i in range(len(bot_path_list)):\n",
    "    Bot_transformed = np.array(Image.open(bot_path_list[i]))/np.array(Image.open(bot_path_list[0])) #Ref image(bot) i번째를 첫번째로 나누어서 Weight 값 생성\n",
    "    Top_transformed = np.array(Image.open(top_path_list[i]))*Bot_transformed #Weight 값과 Top image(top) i번째를 곱하여 Weighted image 생성(보정)\n",
    "    Top_transformed_list.append(Top_transformed) #Weighted image를 리스트에 추가"
   ]
  },
  {
   "cell_type": "code",
   "execution_count": 5,
   "metadata": {},
   "outputs": [
    {
     "data": {
      "text/plain": [
       "(50, 50, 3)"
      ]
     },
     "execution_count": 5,
     "metadata": {},
     "output_type": "execute_result"
    }
   ],
   "source": [
    "Top_transformed_list[0].shape"
   ]
  },
  {
   "attachments": {},
   "cell_type": "markdown",
   "metadata": {},
   "source": [
    "### AutoML 먼저 시도"
   ]
  },
  {
   "cell_type": "code",
   "execution_count": 6,
   "metadata": {},
   "outputs": [],
   "source": [
    "top_avg_rgb = []\n",
    "for i in range(len(Top_transformed_list)):\n",
    "    top = Top_transformed_list[i]\n",
    "    Top_R, Top_G, Top_B = np.mean(top[:,:,0]), np.mean(top[:,:,1]), np.mean(top[:,:,2])\n",
    "    \n",
    "    top_avg_rgb.append([Top_R, Top_G, Top_B])"
   ]
  },
  {
   "cell_type": "code",
   "execution_count": 7,
   "metadata": {},
   "outputs": [
    {
     "data": {
      "text/plain": [
       "(127, 3)"
      ]
     },
     "execution_count": 7,
     "metadata": {},
     "output_type": "execute_result"
    }
   ],
   "source": [
    "top_avg_rgb = np.array(top_avg_rgb)\n",
    "top_avg_rgb.shape"
   ]
  },
  {
   "cell_type": "code",
   "execution_count": 8,
   "metadata": {},
   "outputs": [
    {
     "data": {
      "text/html": [
       "<div>\n",
       "<style scoped>\n",
       "    .dataframe tbody tr th:only-of-type {\n",
       "        vertical-align: middle;\n",
       "    }\n",
       "\n",
       "    .dataframe tbody tr th {\n",
       "        vertical-align: top;\n",
       "    }\n",
       "\n",
       "    .dataframe thead th {\n",
       "        text-align: right;\n",
       "    }\n",
       "</style>\n",
       "<table border=\"1\" class=\"dataframe\">\n",
       "  <thead>\n",
       "    <tr style=\"text-align: right;\">\n",
       "      <th></th>\n",
       "      <th>R</th>\n",
       "      <th>G</th>\n",
       "      <th>B</th>\n",
       "      <th>Thickness</th>\n",
       "    </tr>\n",
       "  </thead>\n",
       "  <tbody>\n",
       "    <tr>\n",
       "      <th>0</th>\n",
       "      <td>11.576000</td>\n",
       "      <td>10.883200</td>\n",
       "      <td>8.136400</td>\n",
       "      <td>48.266667</td>\n",
       "    </tr>\n",
       "    <tr>\n",
       "      <th>1</th>\n",
       "      <td>10.826174</td>\n",
       "      <td>11.729849</td>\n",
       "      <td>9.594695</td>\n",
       "      <td>47.966667</td>\n",
       "    </tr>\n",
       "    <tr>\n",
       "      <th>2</th>\n",
       "      <td>13.336985</td>\n",
       "      <td>12.112036</td>\n",
       "      <td>8.233817</td>\n",
       "      <td>48.166667</td>\n",
       "    </tr>\n",
       "    <tr>\n",
       "      <th>3</th>\n",
       "      <td>9.354297</td>\n",
       "      <td>9.887613</td>\n",
       "      <td>6.912199</td>\n",
       "      <td>48.600000</td>\n",
       "    </tr>\n",
       "    <tr>\n",
       "      <th>4</th>\n",
       "      <td>4.799665</td>\n",
       "      <td>2.776091</td>\n",
       "      <td>1.086510</td>\n",
       "      <td>59.533333</td>\n",
       "    </tr>\n",
       "    <tr>\n",
       "      <th>...</th>\n",
       "      <td>...</td>\n",
       "      <td>...</td>\n",
       "      <td>...</td>\n",
       "      <td>...</td>\n",
       "    </tr>\n",
       "    <tr>\n",
       "      <th>122</th>\n",
       "      <td>0.503564</td>\n",
       "      <td>4.690656</td>\n",
       "      <td>18.853995</td>\n",
       "      <td>84.633333</td>\n",
       "    </tr>\n",
       "    <tr>\n",
       "      <th>123</th>\n",
       "      <td>0.825026</td>\n",
       "      <td>14.850428</td>\n",
       "      <td>27.031939</td>\n",
       "      <td>98.366667</td>\n",
       "    </tr>\n",
       "    <tr>\n",
       "      <th>124</th>\n",
       "      <td>0.969714</td>\n",
       "      <td>13.035919</td>\n",
       "      <td>33.905851</td>\n",
       "      <td>97.033333</td>\n",
       "    </tr>\n",
       "    <tr>\n",
       "      <th>125</th>\n",
       "      <td>1.159944</td>\n",
       "      <td>13.412763</td>\n",
       "      <td>32.316093</td>\n",
       "      <td>96.266667</td>\n",
       "    </tr>\n",
       "    <tr>\n",
       "      <th>126</th>\n",
       "      <td>0.704408</td>\n",
       "      <td>13.817866</td>\n",
       "      <td>29.966195</td>\n",
       "      <td>97.766667</td>\n",
       "    </tr>\n",
       "  </tbody>\n",
       "</table>\n",
       "<p>127 rows × 4 columns</p>\n",
       "</div>"
      ],
      "text/plain": [
       "             R          G          B  Thickness\n",
       "0    11.576000  10.883200   8.136400  48.266667\n",
       "1    10.826174  11.729849   9.594695  47.966667\n",
       "2    13.336985  12.112036   8.233817  48.166667\n",
       "3     9.354297   9.887613   6.912199  48.600000\n",
       "4     4.799665   2.776091   1.086510  59.533333\n",
       "..         ...        ...        ...        ...\n",
       "122   0.503564   4.690656  18.853995  84.633333\n",
       "123   0.825026  14.850428  27.031939  98.366667\n",
       "124   0.969714  13.035919  33.905851  97.033333\n",
       "125   1.159944  13.412763  32.316093  96.266667\n",
       "126   0.704408  13.817866  29.966195  97.766667\n",
       "\n",
       "[127 rows x 4 columns]"
      ]
     },
     "execution_count": 8,
     "metadata": {},
     "output_type": "execute_result"
    }
   ],
   "source": [
    "#top avg rgb + thickness\n",
    "Table_dataset = pd.DataFrame(np.concatenate([top_avg_rgb, Thickness], axis = 1), columns=['R', 'G', 'B', 'Thickness'])\n",
    "Table_dataset"
   ]
  },
  {
   "cell_type": "code",
   "execution_count": 64,
   "metadata": {},
   "outputs": [],
   "source": [
    "X_train, X_test, y_train, y_test = train_test_split(Table_dataset.iloc[:,:-1], Table_dataset.iloc[:,-1], test_size=0.3, random_state=42)"
   ]
  },
  {
   "cell_type": "code",
   "execution_count": 65,
   "metadata": {},
   "outputs": [
    {
     "data": {
      "application/vnd.jupyter.widget-view+json": {
       "model_id": "8b2e105bcbf74da69c6ddd5d84cdc106",
       "version_major": 2,
       "version_minor": 0
      },
      "text/plain": [
       "Optimization Progress:   0%|          | 0/300 [00:00<?, ?pipeline/s]"
      ]
     },
     "metadata": {},
     "output_type": "display_data"
    },
    {
     "name": "stdout",
     "output_type": "stream",
     "text": [
      "\n",
      "Generation 1 - Current best internal CV score: -53.46834814108869\n",
      "\n",
      "Generation 2 - Current best internal CV score: -53.46834814108869\n",
      "\n",
      "Generation 3 - Current best internal CV score: -51.35804655120336\n",
      "\n",
      "Generation 4 - Current best internal CV score: -48.66765317278573\n",
      "\n",
      "Generation 5 - Current best internal CV score: -48.66765317278573\n",
      "\n",
      "Best pipeline: AdaBoostRegressor(SelectFwe(XGBRegressor(input_matrix, learning_rate=0.01, max_depth=7, min_child_weight=20, n_estimators=100, n_jobs=1, objective=reg:squarederror, subsample=0.6000000000000001, verbosity=0), alpha=0.032), learning_rate=0.5, loss=square, n_estimators=100)\n"
     ]
    }
   ],
   "source": [
    "from tpot import TPOTRegressor\n",
    "\n",
    "tpot =  TPOTRegressor(generations=5, population_size=50, verbosity=2, random_state=42, cv=5, n_jobs = -1)\n",
    "tpot.fit(X_train, y_train)\n",
    "\n",
    "tpot.export('tpot_corrected.py')"
   ]
  },
  {
   "cell_type": "code",
   "execution_count": 66,
   "metadata": {},
   "outputs": [
    {
     "data": {
      "text/plain": [
       "array([ 72.41428571,  63.01111111,  69.67948718,  97.22727272,\n",
       "        92.52907801,  65.34333333,  72.11555555,  89.61728395,\n",
       "        66.12083333, 106.3111111 ,  94.44202899,  62.78888889,\n",
       "        84.055     ,  64.20476191,  82.09444444, 104.38809523,\n",
       "        85.79333333,  83.15376344,  68.05072464,  84.055     ,\n",
       "        67.90333333,  65.34333333,  84.52916667, 153.3       ,\n",
       "        48.2       , 153.3       , 105.88333333, 104.90000001,\n",
       "        72.56458333,  84.64416667,  65.31388889,  72.62380952,\n",
       "        72.56458333, 103.72291666,  91.54137931, 103.77894734,\n",
       "        69.62857143, 153.3       ,  74.29814815])"
      ]
     },
     "execution_count": 66,
     "metadata": {},
     "output_type": "execute_result"
    }
   ],
   "source": [
    "y_pred = tpot.predict(X_test)\n",
    "y_pred"
   ]
  },
  {
   "cell_type": "code",
   "execution_count": 67,
   "metadata": {},
   "outputs": [
    {
     "data": {
      "text/plain": [
       "[<matplotlib.lines.Line2D at 0x1d0245a21d0>]"
      ]
     },
     "execution_count": 67,
     "metadata": {},
     "output_type": "execute_result"
    },
    {
     "data": {
      "image/png": "[encoded data removed]",
      "text/plain": [
       "<Figure size 640x480 with 1 Axes>"
      ]
     },
     "metadata": {},
     "output_type": "display_data"
    }
   ],
   "source": [
    "plt.plot(y_test.values,'x', label = 'True')\n",
    "plt.plot(y_pred,'*', label = 'Predict')"
   ]
  },
  {
   "cell_type": "code",
   "execution_count": 68,
   "metadata": {},
   "outputs": [
    {
     "data": {
      "text/html": [
       "<div>\n",
       "<style scoped>\n",
       "    .dataframe tbody tr th:only-of-type {\n",
       "        vertical-align: middle;\n",
       "    }\n",
       "\n",
       "    .dataframe tbody tr th {\n",
       "        vertical-align: top;\n",
       "    }\n",
       "\n",
       "    .dataframe thead th {\n",
       "        text-align: right;\n",
       "    }\n",
       "</style>\n",
       "<table border=\"1\" class=\"dataframe\">\n",
       "  <thead>\n",
       "    <tr style=\"text-align: right;\">\n",
       "      <th></th>\n",
       "      <th>True</th>\n",
       "      <th>Predict</th>\n",
       "    </tr>\n",
       "  </thead>\n",
       "  <tbody>\n",
       "    <tr>\n",
       "      <th>0</th>\n",
       "      <td>75.533333</td>\n",
       "      <td>72.414286</td>\n",
       "    </tr>\n",
       "    <tr>\n",
       "      <th>1</th>\n",
       "      <td>61.300000</td>\n",
       "      <td>63.011111</td>\n",
       "    </tr>\n",
       "    <tr>\n",
       "      <th>2</th>\n",
       "      <td>68.700000</td>\n",
       "      <td>69.679487</td>\n",
       "    </tr>\n",
       "    <tr>\n",
       "      <th>3</th>\n",
       "      <td>96.633333</td>\n",
       "      <td>97.227273</td>\n",
       "    </tr>\n",
       "    <tr>\n",
       "      <th>4</th>\n",
       "      <td>101.466667</td>\n",
       "      <td>92.529078</td>\n",
       "    </tr>\n",
       "    <tr>\n",
       "      <th>5</th>\n",
       "      <td>63.166667</td>\n",
       "      <td>65.343333</td>\n",
       "    </tr>\n",
       "    <tr>\n",
       "      <th>6</th>\n",
       "      <td>69.433333</td>\n",
       "      <td>72.115556</td>\n",
       "    </tr>\n",
       "    <tr>\n",
       "      <th>7</th>\n",
       "      <td>96.266667</td>\n",
       "      <td>89.617284</td>\n",
       "    </tr>\n",
       "    <tr>\n",
       "      <th>8</th>\n",
       "      <td>61.466667</td>\n",
       "      <td>66.120833</td>\n",
       "    </tr>\n",
       "    <tr>\n",
       "      <th>9</th>\n",
       "      <td>111.533333</td>\n",
       "      <td>106.311111</td>\n",
       "    </tr>\n",
       "    <tr>\n",
       "      <th>10</th>\n",
       "      <td>101.433333</td>\n",
       "      <td>94.442029</td>\n",
       "    </tr>\n",
       "    <tr>\n",
       "      <th>11</th>\n",
       "      <td>59.533333</td>\n",
       "      <td>62.788889</td>\n",
       "    </tr>\n",
       "    <tr>\n",
       "      <th>12</th>\n",
       "      <td>93.533333</td>\n",
       "      <td>84.055000</td>\n",
       "    </tr>\n",
       "    <tr>\n",
       "      <th>13</th>\n",
       "      <td>62.366667</td>\n",
       "      <td>64.204762</td>\n",
       "    </tr>\n",
       "    <tr>\n",
       "      <th>14</th>\n",
       "      <td>78.533333</td>\n",
       "      <td>82.094444</td>\n",
       "    </tr>\n",
       "    <tr>\n",
       "      <th>15</th>\n",
       "      <td>111.400000</td>\n",
       "      <td>104.388095</td>\n",
       "    </tr>\n",
       "    <tr>\n",
       "      <th>16</th>\n",
       "      <td>93.500000</td>\n",
       "      <td>85.793333</td>\n",
       "    </tr>\n",
       "    <tr>\n",
       "      <th>17</th>\n",
       "      <td>84.733333</td>\n",
       "      <td>83.153763</td>\n",
       "    </tr>\n",
       "    <tr>\n",
       "      <th>18</th>\n",
       "      <td>68.200000</td>\n",
       "      <td>68.050725</td>\n",
       "    </tr>\n",
       "    <tr>\n",
       "      <th>19</th>\n",
       "      <td>87.766667</td>\n",
       "      <td>84.055000</td>\n",
       "    </tr>\n",
       "    <tr>\n",
       "      <th>20</th>\n",
       "      <td>69.700000</td>\n",
       "      <td>67.903333</td>\n",
       "    </tr>\n",
       "    <tr>\n",
       "      <th>21</th>\n",
       "      <td>63.600000</td>\n",
       "      <td>65.343333</td>\n",
       "    </tr>\n",
       "    <tr>\n",
       "      <th>22</th>\n",
       "      <td>87.700000</td>\n",
       "      <td>84.529167</td>\n",
       "    </tr>\n",
       "    <tr>\n",
       "      <th>23</th>\n",
       "      <td>141.100000</td>\n",
       "      <td>153.300000</td>\n",
       "    </tr>\n",
       "    <tr>\n",
       "      <th>24</th>\n",
       "      <td>48.266667</td>\n",
       "      <td>48.200000</td>\n",
       "    </tr>\n",
       "    <tr>\n",
       "      <th>25</th>\n",
       "      <td>150.066667</td>\n",
       "      <td>153.300000</td>\n",
       "    </tr>\n",
       "    <tr>\n",
       "      <th>26</th>\n",
       "      <td>93.933333</td>\n",
       "      <td>105.883333</td>\n",
       "    </tr>\n",
       "    <tr>\n",
       "      <th>27</th>\n",
       "      <td>96.166667</td>\n",
       "      <td>104.900000</td>\n",
       "    </tr>\n",
       "    <tr>\n",
       "      <th>28</th>\n",
       "      <td>79.100000</td>\n",
       "      <td>72.564583</td>\n",
       "    </tr>\n",
       "    <tr>\n",
       "      <th>29</th>\n",
       "      <td>88.566667</td>\n",
       "      <td>84.644167</td>\n",
       "    </tr>\n",
       "    <tr>\n",
       "      <th>30</th>\n",
       "      <td>61.866667</td>\n",
       "      <td>65.313889</td>\n",
       "    </tr>\n",
       "    <tr>\n",
       "      <th>31</th>\n",
       "      <td>75.633333</td>\n",
       "      <td>72.623810</td>\n",
       "    </tr>\n",
       "    <tr>\n",
       "      <th>32</th>\n",
       "      <td>74.766667</td>\n",
       "      <td>72.564583</td>\n",
       "    </tr>\n",
       "    <tr>\n",
       "      <th>33</th>\n",
       "      <td>109.733333</td>\n",
       "      <td>103.722917</td>\n",
       "    </tr>\n",
       "    <tr>\n",
       "      <th>34</th>\n",
       "      <td>100.600000</td>\n",
       "      <td>91.541379</td>\n",
       "    </tr>\n",
       "    <tr>\n",
       "      <th>35</th>\n",
       "      <td>110.500000</td>\n",
       "      <td>103.778947</td>\n",
       "    </tr>\n",
       "    <tr>\n",
       "      <th>36</th>\n",
       "      <td>81.466667</td>\n",
       "      <td>69.628571</td>\n",
       "    </tr>\n",
       "    <tr>\n",
       "      <th>37</th>\n",
       "      <td>161.100000</td>\n",
       "      <td>153.300000</td>\n",
       "    </tr>\n",
       "    <tr>\n",
       "      <th>38</th>\n",
       "      <td>81.733333</td>\n",
       "      <td>74.298148</td>\n",
       "    </tr>\n",
       "  </tbody>\n",
       "</table>\n",
       "</div>"
      ],
      "text/plain": [
       "          True     Predict\n",
       "0    75.533333   72.414286\n",
       "1    61.300000   63.011111\n",
       "2    68.700000   69.679487\n",
       "3    96.633333   97.227273\n",
       "4   101.466667   92.529078\n",
       "5    63.166667   65.343333\n",
       "6    69.433333   72.115556\n",
       "7    96.266667   89.617284\n",
       "8    61.466667   66.120833\n",
       "9   111.533333  106.311111\n",
       "10  101.433333   94.442029\n",
       "11   59.533333   62.788889\n",
       "12   93.533333   84.055000\n",
       "13   62.366667   64.204762\n",
       "14   78.533333   82.094444\n",
       "15  111.400000  104.388095\n",
       "16   93.500000   85.793333\n",
       "17   84.733333   83.153763\n",
       "18   68.200000   68.050725\n",
       "19   87.766667   84.055000\n",
       "20   69.700000   67.903333\n",
       "21   63.600000   65.343333\n",
       "22   87.700000   84.529167\n",
       "23  141.100000  153.300000\n",
       "24   48.266667   48.200000\n",
       "25  150.066667  153.300000\n",
       "26   93.933333  105.883333\n",
       "27   96.166667  104.900000\n",
       "28   79.100000   72.564583\n",
       "29   88.566667   84.644167\n",
       "30   61.866667   65.313889\n",
       "31   75.633333   72.623810\n",
       "32   74.766667   72.564583\n",
       "33  109.733333  103.722917\n",
       "34  100.600000   91.541379\n",
       "35  110.500000  103.778947\n",
       "36   81.466667   69.628571\n",
       "37  161.100000  153.300000\n",
       "38   81.733333   74.298148"
      ]
     },
     "execution_count": 68,
     "metadata": {},
     "output_type": "execute_result"
    }
   ],
   "source": [
    "pd.DataFrame({'True': y_test.values, 'Predict': y_pred})"
   ]
  },
  {
   "cell_type": "code",
   "execution_count": 69,
   "metadata": {},
   "outputs": [
    {
     "data": {
      "text/plain": [
       "35.573272807034115"
      ]
     },
     "execution_count": 69,
     "metadata": {},
     "output_type": "execute_result"
    }
   ],
   "source": [
    "mse = np.mean((y_test.values - y_pred)**2)\n",
    "mse"
   ]
  }
 ],
 "metadata": {
  "kernelspec": {
   "display_name": "base",
   "language": "python",
   "name": "python3"
  },
  "language_info": {
   "codemirror_mode": {
    "name": "ipython",
    "version": 3
   },
   "file_extension": ".py",
   "mimetype": "text/x-python",
   "name": "python",
   "nbconvert_exporter": "python",
   "pygments_lexer": "ipython3",
   "version": "3.10.9"
  },
  "orig_nbformat": 4
 },
 "nbformat": 4,
 "nbformat_minor": 2
}
