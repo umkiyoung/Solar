{
 "cells": [
  {
   "cell_type": "markdown",
   "metadata": {},
   "source": [
    "# Feature Extraction using CNN"
   ]
  },
  {
   "cell_type": "markdown",
   "metadata": {},
   "source": [
    "Normalize 까지 적용"
   ]
  },
  {
   "cell_type": "code",
   "execution_count": 1,
   "metadata": {},
   "outputs": [],
   "source": [
    "import pandas as pd\n",
    "import numpy as np\n",
    "import matplotlib.pyplot as plt\n",
    "import seaborn as sns\n",
    "\n",
    "from sklearn.model_selection import train_test_split\n",
    "from torch.utils.data import DataLoader, Dataset\n",
    "from torchvision import transforms\n",
    "from torch import nn\n",
    "import torch.nn.functional as F\n",
    "import torch.optim as optim\n",
    "import torch\n",
    "import torchvision\n",
    "import cv2\n",
    "import os"
   ]
  },
  {
   "cell_type": "code",
   "execution_count": 2,
   "metadata": {},
   "outputs": [],
   "source": [
    "np.random.seed(42)"
   ]
  },
  {
   "cell_type": "code",
   "execution_count": 3,
   "metadata": {},
   "outputs": [],
   "source": [
    "#Image path\n",
    "img_path = '../data/box_img/'\n",
    "\n",
    "#label \n",
    "label = pd.read_csv('../data/Standard.csv')['Thickness']"
   ]
  },
  {
   "cell_type": "code",
   "execution_count": 4,
   "metadata": {},
   "outputs": [],
   "source": [
    "for i in range(127):\n",
    "    Top = np.array(cv2.imread(img_path + 'Top/' + 'Top_' + str(i) + '.jpg'))\n",
    "    Bot = np.array(cv2.imread(img_path + 'Bot/' + 'Bot_' + str(i) + '.jpg'))\n",
    "    cat = np.concatenate((Top, Bot), axis = 1)\n",
    "    cv2.imwrite(img_path + 'Cat/' + 'cat_' + str(i) + '.jpg', cat)\n"
   ]
  },
  {
   "cell_type": "code",
   "execution_count": 5,
   "metadata": {},
   "outputs": [],
   "source": [
    "class CustomDataset(Dataset):\n",
    "    def __init__(self, img_path, label, transform = None):\n",
    "        self.img_path = img_path\n",
    "        self.label = label\n",
    "        self.transform = transform\n",
    "        \n",
    "        \n",
    "    def __len__(self):\n",
    "        return len(self.label)\n",
    "    \n",
    "    def __getitem__(self, idx):\n",
    "        img = cv2.imread(self.img_path + 'Cat/' + 'cat_' + str(idx) + '.jpg')\n",
    "        label = self.label[idx]\n",
    "        \n",
    "        if self.transform:\n",
    "            img = self.transform(img)\n",
    "\n",
    "        label = torch.tensor(label)\n",
    "            \n",
    "        return img, label\n",
    "            \n",
    "#Transform\n",
    "transform = transforms.Compose([\n",
    "    transforms.ToTensor(),\n",
    "    transforms.Normalize(mean = [0.5, 0.5, 0.5],\n",
    "                        std = [0.5, 0.5, 0.5])\n",
    "])\n",
    "\n",
    "#Dataset\n",
    "dataset = CustomDataset(img_path, label, transform = transform)"
   ]
  },
  {
   "cell_type": "code",
   "execution_count": 6,
   "metadata": {},
   "outputs": [
    {
     "name": "stderr",
     "output_type": "stream",
     "text": [
      "Clipping input data to the valid range for imshow with RGB data ([0..1] for floats or [0..255] for integers).\n"
     ]
    },
    {
     "data": {
      "text/plain": [
       "<matplotlib.image.AxesImage at 0x1fb5472dcc0>"
      ]
     },
     "execution_count": 6,
     "metadata": {},
     "output_type": "execute_result"
    },
    {
     "data": {
      "image/png": "[encoded data removed]",
      "text/plain": [
       "<Figure size 640x480 with 1 Axes>"
      ]
     },
     "metadata": {},
     "output_type": "display_data"
    }
   ],
   "source": [
    "#show image\n",
    "plt.imshow(dataset[0][0].permute(1, 2, 0))"
   ]
  },
  {
   "cell_type": "code",
   "execution_count": 7,
   "metadata": {},
   "outputs": [
    {
     "data": {
      "text/plain": [
       "array([ 26, 111,  81,  55,  44,  96,  80, 125, 114,  62,  45,   4,  18,\n",
       "        95,  36,  94,  19, 120,  10,  40,  11,  98, 104,  77,   0,  78,\n",
       "        68,  69,  12,  42,  31,  27,  24,  93, 110,  91,  15,  76,  22],\n",
       "      dtype=int64)"
      ]
     },
     "execution_count": 7,
     "metadata": {},
     "output_type": "execute_result"
    }
   ],
   "source": [
    "#split train, test\n",
    "test_idx = pd.read_csv('../data/test_index.csv')\n",
    "test_idx = test_idx['test_index'].values\n",
    "test_idx"
   ]
  },
  {
   "cell_type": "code",
   "execution_count": 8,
   "metadata": {},
   "outputs": [],
   "source": [
    "test_dataset = torch.utils.data.Subset(dataset, test_idx)\n",
    "train_dataset = torch.utils.data.Subset(dataset, list(set(range(len(dataset))) - set(test_idx)))"
   ]
  },
  {
   "cell_type": "code",
   "execution_count": 9,
   "metadata": {},
   "outputs": [],
   "source": [
    "train_loader = DataLoader(train_dataset, batch_size = 32, shuffle = True)\n",
    "test_loader = DataLoader(test_dataset, batch_size = 32, shuffle = False)"
   ]
  },
  {
   "cell_type": "code",
   "execution_count": 10,
   "metadata": {},
   "outputs": [
    {
     "data": {
      "text/plain": [
       "torch.Size([32, 3, 100, 200])"
      ]
     },
     "execution_count": 10,
     "metadata": {},
     "output_type": "execute_result"
    }
   ],
   "source": [
    "next(iter(train_loader))[0].shape"
   ]
  },
  {
   "cell_type": "code",
   "execution_count": 11,
   "metadata": {},
   "outputs": [],
   "source": [
    "# CNN Model\n",
    "class CNN(nn.Module):\n",
    "    def __init__(self):\n",
    "        super(CNN, self).__init__()\n",
    "        self.conv1 = nn.Conv2d(in_channels = 3, out_channels = 16, kernel_size = 3, stride = 1, padding = 1)\n",
    "        self.conv2 = nn.Conv2d(in_channels = 16, out_channels = 32, kernel_size = 3, stride = 1, padding = 1)\n",
    "        self.conv3 = nn.Conv2d(in_channels = 32, out_channels = 64, kernel_size = 3, stride = 1, padding = 1)\n",
    "        self.conv4 = nn.Conv2d(in_channels = 64, out_channels = 128, kernel_size = 3, stride = 1, padding = 1)\n",
    "        self.relu = nn.ReLU()\n",
    "        self.maxpool = nn.MaxPool2d(kernel_size = 2, stride = 2)\n",
    "        self.fc1 = nn.Linear(9216, 128)\n",
    "        self.fc2 = nn.Linear(128, 1)\n",
    "        self.dropout = nn.Dropout(0.5)\n",
    "        self.batchnorm1 = nn.BatchNorm2d(16)\n",
    "        self.batchnorm2 = nn.BatchNorm2d(32)\n",
    "        self.batchnorm3 = nn.BatchNorm2d(64)\n",
    "        self.batchnorm4 = nn.BatchNorm2d(128)\n",
    "    \n",
    "        \n",
    "    def forward(self, x):\n",
    "        x = self.conv1(x)\n",
    "        x = self.batchnorm1(x)\n",
    "        x = self.relu(x)\n",
    "        x = self.maxpool(x)\n",
    "        \n",
    "        x = self.conv2(x)\n",
    "        x = self.batchnorm2(x)\n",
    "        x = self.relu(x)\n",
    "        x = self.maxpool(x)\n",
    "        \n",
    "        x = self.conv3(x)\n",
    "        x = self.batchnorm3(x)\n",
    "        x = self.relu(x)\n",
    "        x = self.maxpool(x)\n",
    "        \n",
    "        x = self.conv4(x)\n",
    "        x = self.batchnorm4(x)\n",
    "        x = self.relu(x)\n",
    "        x = self.maxpool(x)\n",
    "        \n",
    "        x = x.view(x.size(0), -1)\n",
    "        \n",
    "        x = self.fc1(x)\n",
    "        x = self.relu(x)\n",
    "        x = self.dropout(x)\n",
    "        \n",
    "        x = self.fc2(x)\n",
    "        \n",
    "        return x"
   ]
  },
  {
   "cell_type": "code",
   "execution_count": 12,
   "metadata": {},
   "outputs": [],
   "source": [
    "model = CNN()"
   ]
  },
  {
   "cell_type": "code",
   "execution_count": 13,
   "metadata": {},
   "outputs": [
    {
     "name": "stdout",
     "output_type": "stream",
     "text": [
      "epoch: 1, train_loss: 5046.4898, test_loss: 9067.4602\n",
      "epoch: 2, train_loss: 782.3661, test_loss: 8220.6123\n",
      "epoch: 3, train_loss: 766.4487, test_loss: 8131.8860\n",
      "epoch: 4, train_loss: 268.0568, test_loss: 8081.6904\n",
      "epoch: 5, train_loss: 322.7047, test_loss: 7719.5269\n",
      "epoch: 6, train_loss: 190.0932, test_loss: 6910.4165\n",
      "epoch: 7, train_loss: 280.5863, test_loss: 5524.3618\n",
      "epoch: 8, train_loss: 174.5328, test_loss: 4227.0092\n",
      "epoch: 9, train_loss: 246.5493, test_loss: 3417.9166\n",
      "epoch: 10, train_loss: 200.7345, test_loss: 2555.1849\n",
      "epoch: 11, train_loss: 177.7458, test_loss: 1860.0045\n",
      "epoch: 12, train_loss: 142.9613, test_loss: 1290.9998\n",
      "epoch: 13, train_loss: 223.6500, test_loss: 817.9364\n",
      "epoch: 14, train_loss: 220.0290, test_loss: 583.9613\n",
      "epoch: 15, train_loss: 217.2453, test_loss: 456.9980\n",
      "epoch: 16, train_loss: 212.7966, test_loss: 408.3527\n",
      "epoch: 17, train_loss: 195.7004, test_loss: 328.2185\n",
      "epoch: 18, train_loss: 187.4188, test_loss: 170.9365\n",
      "epoch: 19, train_loss: 184.3641, test_loss: 162.9853\n",
      "epoch: 20, train_loss: 167.2341, test_loss: 178.8368\n",
      "epoch: 21, train_loss: 206.9806, test_loss: 185.7497\n",
      "epoch: 22, train_loss: 211.6955, test_loss: 214.2080\n",
      "epoch: 23, train_loss: 187.0575, test_loss: 174.2026\n",
      "epoch: 24, train_loss: 92.9458, test_loss: 201.1416\n",
      "epoch: 25, train_loss: 180.1974, test_loss: 290.7467\n",
      "epoch: 26, train_loss: 169.2132, test_loss: 327.9028\n",
      "epoch: 27, train_loss: 188.2260, test_loss: 249.9594\n",
      "epoch: 28, train_loss: 143.1342, test_loss: 143.7374\n",
      "epoch: 29, train_loss: 125.9861, test_loss: 76.1963\n",
      "epoch: 30, train_loss: 127.1573, test_loss: 67.2167\n",
      "epoch: 31, train_loss: 174.3058, test_loss: 115.6436\n",
      "epoch: 32, train_loss: 197.7052, test_loss: 156.0180\n",
      "epoch: 33, train_loss: 184.8383, test_loss: 121.0865\n",
      "epoch: 34, train_loss: 156.7059, test_loss: 87.1559\n",
      "epoch: 35, train_loss: 167.5053, test_loss: 74.5910\n",
      "epoch: 36, train_loss: 151.5387, test_loss: 68.5582\n",
      "epoch: 37, train_loss: 182.1875, test_loss: 153.7327\n",
      "epoch: 38, train_loss: 188.1025, test_loss: 113.5198\n",
      "epoch: 39, train_loss: 200.6644, test_loss: 45.1387\n",
      "epoch: 40, train_loss: 223.4307, test_loss: 160.6924\n",
      "epoch: 41, train_loss: 197.1469, test_loss: 196.6486\n",
      "epoch: 42, train_loss: 195.5590, test_loss: 126.9446\n",
      "epoch: 43, train_loss: 215.3234, test_loss: 235.5724\n",
      "epoch: 44, train_loss: 157.3431, test_loss: 142.8252\n",
      "epoch: 45, train_loss: 185.7739, test_loss: 98.7356\n",
      "epoch: 46, train_loss: 138.2971, test_loss: 295.0177\n",
      "epoch: 47, train_loss: 142.0717, test_loss: 248.3600\n",
      "epoch: 48, train_loss: 138.8609, test_loss: 216.5866\n",
      "epoch: 49, train_loss: 158.0550, test_loss: 229.5277\n",
      "epoch: 50, train_loss: 186.8006, test_loss: 147.5439\n",
      "epoch: 51, train_loss: 169.2091, test_loss: 101.8925\n",
      "epoch: 52, train_loss: 152.2639, test_loss: 161.5132\n",
      "epoch: 53, train_loss: 159.0469, test_loss: 194.2563\n",
      "epoch: 54, train_loss: 148.7782, test_loss: 137.0853\n",
      "epoch: 55, train_loss: 207.9443, test_loss: 176.5390\n",
      "epoch: 56, train_loss: 190.6912, test_loss: 128.1126\n",
      "epoch: 57, train_loss: 207.7298, test_loss: 52.6536\n",
      "epoch: 58, train_loss: 149.6753, test_loss: 48.0728\n",
      "epoch: 59, train_loss: 149.7898, test_loss: 55.0111\n",
      "epoch: 60, train_loss: 149.6136, test_loss: 37.8434\n",
      "epoch: 61, train_loss: 123.7295, test_loss: 72.8133\n",
      "epoch: 62, train_loss: 131.0643, test_loss: 115.7639\n",
      "epoch: 63, train_loss: 206.0274, test_loss: 112.9222\n",
      "epoch: 64, train_loss: 111.9447, test_loss: 62.8640\n",
      "epoch: 65, train_loss: 183.8631, test_loss: 49.1080\n",
      "epoch: 66, train_loss: 153.5824, test_loss: 79.6017\n",
      "epoch: 67, train_loss: 177.1606, test_loss: 40.5681\n",
      "epoch: 68, train_loss: 130.0054, test_loss: 44.4333\n",
      "epoch: 69, train_loss: 149.0339, test_loss: 87.4430\n",
      "epoch: 70, train_loss: 111.1321, test_loss: 135.0638\n",
      "epoch: 71, train_loss: 168.7593, test_loss: 174.5763\n",
      "epoch: 72, train_loss: 167.7406, test_loss: 128.2232\n",
      "epoch: 73, train_loss: 194.3485, test_loss: 100.3755\n",
      "epoch: 74, train_loss: 180.4643, test_loss: 208.8968\n",
      "epoch: 75, train_loss: 165.6862, test_loss: 257.4817\n",
      "epoch: 76, train_loss: 125.1991, test_loss: 156.1542\n",
      "epoch: 77, train_loss: 135.8477, test_loss: 63.4976\n",
      "epoch: 78, train_loss: 205.4140, test_loss: 236.9511\n",
      "epoch: 79, train_loss: 199.9034, test_loss: 241.0860\n",
      "epoch: 80, train_loss: 192.2910, test_loss: 86.3718\n",
      "epoch: 81, train_loss: 149.7265, test_loss: 84.1020\n",
      "epoch: 82, train_loss: 147.8773, test_loss: 77.9243\n",
      "epoch: 83, train_loss: 155.6120, test_loss: 92.8385\n",
      "epoch: 84, train_loss: 147.8797, test_loss: 139.0891\n",
      "epoch: 85, train_loss: 121.6549, test_loss: 138.0041\n",
      "epoch: 86, train_loss: 164.7461, test_loss: 189.4073\n",
      "epoch: 87, train_loss: 186.6884, test_loss: 138.3079\n",
      "epoch: 88, train_loss: 124.1703, test_loss: 61.5633\n",
      "epoch: 89, train_loss: 143.7067, test_loss: 61.1582\n",
      "epoch: 90, train_loss: 155.2090, test_loss: 140.0332\n",
      "epoch: 91, train_loss: 137.0713, test_loss: 151.8733\n",
      "epoch: 92, train_loss: 196.5821, test_loss: 140.4049\n",
      "epoch: 93, train_loss: 181.5211, test_loss: 136.0756\n",
      "epoch: 94, train_loss: 187.7034, test_loss: 114.7157\n",
      "epoch: 95, train_loss: 120.6209, test_loss: 47.0918\n",
      "epoch: 96, train_loss: 142.3417, test_loss: 76.0416\n",
      "epoch: 97, train_loss: 157.2532, test_loss: 106.2394\n",
      "epoch: 98, train_loss: 173.9930, test_loss: 114.8887\n",
      "epoch: 99, train_loss: 186.0137, test_loss: 63.9035\n",
      "epoch: 100, train_loss: 144.7115, test_loss: 67.6438\n",
      "epoch: 101, train_loss: 181.7728, test_loss: 217.4084\n",
      "epoch: 102, train_loss: 199.8538, test_loss: 78.5438\n",
      "epoch: 103, train_loss: 138.5237, test_loss: 58.8103\n",
      "epoch: 104, train_loss: 187.3884, test_loss: 129.7399\n",
      "epoch: 105, train_loss: 208.1985, test_loss: 298.6391\n",
      "epoch: 106, train_loss: 263.7392, test_loss: 162.6548\n",
      "epoch: 107, train_loss: 195.1503, test_loss: 154.6916\n",
      "epoch: 108, train_loss: 151.0172, test_loss: 173.4843\n",
      "epoch: 109, train_loss: 160.8586, test_loss: 118.4657\n",
      "epoch: 110, train_loss: 179.3755, test_loss: 36.4417\n",
      "epoch: 111, train_loss: 150.8378, test_loss: 39.6295\n",
      "epoch: 112, train_loss: 141.3102, test_loss: 79.8909\n",
      "epoch: 113, train_loss: 154.3901, test_loss: 89.1406\n",
      "epoch: 114, train_loss: 167.1386, test_loss: 41.0203\n",
      "epoch: 115, train_loss: 175.9574, test_loss: 35.6436\n",
      "epoch: 116, train_loss: 161.6362, test_loss: 38.9024\n",
      "epoch: 117, train_loss: 167.4198, test_loss: 48.3350\n",
      "epoch: 118, train_loss: 110.1166, test_loss: 57.7002\n",
      "epoch: 119, train_loss: 157.7508, test_loss: 47.1171\n",
      "epoch: 120, train_loss: 132.0813, test_loss: 123.2743\n",
      "epoch: 121, train_loss: 182.6226, test_loss: 211.6262\n",
      "epoch: 122, train_loss: 119.8644, test_loss: 281.9663\n",
      "epoch: 123, train_loss: 93.7914, test_loss: 233.2941\n",
      "epoch: 124, train_loss: 160.6355, test_loss: 126.1100\n",
      "epoch: 125, train_loss: 158.3690, test_loss: 166.2332\n",
      "epoch: 126, train_loss: 166.8400, test_loss: 299.4973\n",
      "epoch: 127, train_loss: 130.2945, test_loss: 172.3513\n",
      "epoch: 128, train_loss: 215.7682, test_loss: 150.4910\n",
      "epoch: 129, train_loss: 143.2156, test_loss: 502.7976\n",
      "epoch: 130, train_loss: 223.0359, test_loss: 457.0143\n",
      "epoch: 131, train_loss: 153.4741, test_loss: 271.4412\n",
      "epoch: 132, train_loss: 150.7536, test_loss: 192.8663\n",
      "epoch: 133, train_loss: 164.6220, test_loss: 229.0269\n",
      "epoch: 134, train_loss: 131.7109, test_loss: 180.3215\n",
      "epoch: 135, train_loss: 190.3528, test_loss: 64.2136\n",
      "epoch: 136, train_loss: 191.9859, test_loss: 62.8789\n",
      "epoch: 137, train_loss: 175.7430, test_loss: 66.0705\n",
      "epoch: 138, train_loss: 165.2096, test_loss: 38.4055\n",
      "epoch: 139, train_loss: 181.7980, test_loss: 57.4768\n",
      "epoch: 140, train_loss: 158.9905, test_loss: 41.1395\n",
      "epoch: 141, train_loss: 142.2115, test_loss: 39.0233\n",
      "epoch: 142, train_loss: 144.8067, test_loss: 59.4662\n",
      "epoch: 143, train_loss: 134.6839, test_loss: 71.6568\n",
      "epoch: 144, train_loss: 135.5576, test_loss: 43.9322\n",
      "epoch: 145, train_loss: 171.8822, test_loss: 96.5452\n",
      "epoch: 146, train_loss: 155.6526, test_loss: 331.1599\n",
      "epoch: 147, train_loss: 178.8216, test_loss: 406.7026\n",
      "epoch: 148, train_loss: 203.7995, test_loss: 404.1003\n",
      "epoch: 149, train_loss: 196.0259, test_loss: 557.4435\n",
      "epoch: 150, train_loss: 185.6797, test_loss: 383.8254\n",
      "epoch: 151, train_loss: 147.9791, test_loss: 174.5487\n",
      "epoch: 152, train_loss: 132.1081, test_loss: 81.9639\n",
      "epoch: 153, train_loss: 143.1749, test_loss: 69.0843\n",
      "epoch: 154, train_loss: 207.3327, test_loss: 188.0118\n",
      "epoch: 155, train_loss: 182.2635, test_loss: 77.9328\n",
      "epoch: 156, train_loss: 149.7288, test_loss: 102.7928\n",
      "epoch: 157, train_loss: 185.9260, test_loss: 111.9146\n",
      "epoch: 158, train_loss: 209.4469, test_loss: 125.2848\n",
      "epoch: 159, train_loss: 167.2284, test_loss: 49.0349\n",
      "epoch: 160, train_loss: 166.2821, test_loss: 101.4717\n",
      "epoch: 161, train_loss: 171.5727, test_loss: 154.6910\n",
      "epoch: 162, train_loss: 133.2710, test_loss: 85.9689\n",
      "epoch: 163, train_loss: 221.3201, test_loss: 77.7284\n",
      "epoch: 164, train_loss: 201.1944, test_loss: 137.8031\n",
      "epoch: 165, train_loss: 154.6276, test_loss: 77.9528\n",
      "epoch: 166, train_loss: 137.6011, test_loss: 60.2316\n",
      "epoch: 167, train_loss: 187.7555, test_loss: 52.7175\n",
      "epoch: 168, train_loss: 142.1509, test_loss: 45.6929\n",
      "epoch: 169, train_loss: 178.3279, test_loss: 58.3180\n",
      "epoch: 170, train_loss: 148.0845, test_loss: 144.2378\n",
      "epoch: 171, train_loss: 106.8680, test_loss: 138.4358\n",
      "epoch: 172, train_loss: 181.6206, test_loss: 78.2126\n",
      "epoch: 173, train_loss: 134.5347, test_loss: 70.8984\n",
      "epoch: 174, train_loss: 149.2002, test_loss: 198.8593\n",
      "epoch: 175, train_loss: 137.5326, test_loss: 117.2770\n",
      "epoch: 176, train_loss: 160.0039, test_loss: 42.8793\n",
      "epoch: 177, train_loss: 148.8375, test_loss: 50.6284\n",
      "epoch: 178, train_loss: 232.3524, test_loss: 86.4544\n",
      "epoch: 179, train_loss: 192.2208, test_loss: 110.5317\n",
      "epoch: 180, train_loss: 147.8443, test_loss: 145.8511\n",
      "epoch: 181, train_loss: 146.8824, test_loss: 97.1190\n",
      "epoch: 182, train_loss: 136.9618, test_loss: 41.3905\n",
      "epoch: 183, train_loss: 129.4158, test_loss: 63.8885\n",
      "epoch: 184, train_loss: 115.3140, test_loss: 149.5444\n",
      "epoch: 185, train_loss: 140.3835, test_loss: 136.8571\n",
      "epoch: 186, train_loss: 115.9366, test_loss: 193.2765\n",
      "epoch: 187, train_loss: 158.8685, test_loss: 152.7292\n",
      "epoch: 188, train_loss: 151.8263, test_loss: 120.5611\n",
      "epoch: 189, train_loss: 138.4831, test_loss: 125.1349\n",
      "epoch: 190, train_loss: 170.1823, test_loss: 406.0865\n",
      "epoch: 191, train_loss: 161.2308, test_loss: 703.1356\n",
      "epoch: 192, train_loss: 149.0259, test_loss: 576.8342\n",
      "epoch: 193, train_loss: 183.4386, test_loss: 244.3227\n",
      "epoch: 194, train_loss: 162.0166, test_loss: 166.8631\n",
      "epoch: 195, train_loss: 124.0993, test_loss: 140.8993\n",
      "epoch: 196, train_loss: 128.9475, test_loss: 79.9192\n",
      "epoch: 197, train_loss: 174.5415, test_loss: 166.2393\n",
      "epoch: 198, train_loss: 127.7225, test_loss: 211.5566\n",
      "epoch: 199, train_loss: 162.3686, test_loss: 135.6407\n",
      "epoch: 200, train_loss: 132.2066, test_loss: 109.1365\n"
     ]
    },
    {
     "data": {
      "text/plain": [
       "<matplotlib.legend.Legend at 0x1fb56003490>"
      ]
     },
     "execution_count": 13,
     "metadata": {},
     "output_type": "execute_result"
    },
    {
     "data": {
      "image/png": "[encoded data removed]",
      "text/plain": [
       "<Figure size 640x480 with 1 Axes>"
      ]
     },
     "metadata": {},
     "output_type": "display_data"
    }
   ],
   "source": [
    "def train(model, train_loader, optimizer, criterion):\n",
    "    model.train()\n",
    "    running_loss = 0\n",
    "    \n",
    "    for i, (data, target) in enumerate(train_loader):\n",
    "        optimizer.zero_grad()\n",
    "        output = model(data)\n",
    "        loss = criterion(output, target.float().unsqueeze(1))\n",
    "        loss.backward()\n",
    "        optimizer.step()\n",
    "        \n",
    "        running_loss += loss.item()\n",
    "        \n",
    "    train_loss = running_loss / len(train_loader)\n",
    "    \n",
    "    return train_loss\n",
    "\n",
    "def test(model, test_loader, criterion):\n",
    "    model.eval()\n",
    "    running_loss = 0\n",
    "    \n",
    "    for i, (data, target) in enumerate(test_loader):\n",
    "        output = model(data)\n",
    "        loss = criterion(output, target.float().unsqueeze(1))\n",
    "        \n",
    "        running_loss += loss.item()\n",
    "        \n",
    "    test_loss = running_loss / len(test_loader)\n",
    "    \n",
    "    return test_loss\n",
    "\n",
    "#Training\n",
    "criterion = nn.MSELoss()\n",
    "optimizer = optim.Adam(model.parameters(), lr = 0.001)\n",
    "\n",
    "train_loss_list = []\n",
    "test_loss_list = []\n",
    "\n",
    "for epoch in range(200):\n",
    "    train_loss = train(model, train_loader, optimizer, criterion)\n",
    "    test_loss = test(model, test_loader, criterion)\n",
    "    \n",
    "    train_loss_list.append(train_loss)\n",
    "    test_loss_list.append(test_loss)\n",
    "    \n",
    "    print('epoch: {}, train_loss: {:.4f}, test_loss: {:.4f}'.format(epoch + 1, train_loss, test_loss))\n",
    "    \n",
    "#Plot\n",
    "plt.plot(train_loss_list, label = 'train_loss')\n",
    "plt.plot(test_loss_list, label = 'test_loss')\n",
    "plt.legend()"
   ]
  },
  {
   "cell_type": "code",
   "execution_count": 14,
   "metadata": {},
   "outputs": [],
   "source": [
    "#Predict\n",
    "model.eval()\n",
    "pred = []\n",
    "\n",
    "for i, (data, target) in enumerate(test_loader):\n",
    "    output = model(data)\n",
    "    pred.append(output.detach().numpy())\n",
    "    \n",
    "\n",
    "pred = np.concatenate(pred, axis = 0)"
   ]
  },
  {
   "cell_type": "code",
   "execution_count": 15,
   "metadata": {},
   "outputs": [
    {
     "data": {
      "text/plain": [
       "array([ 72.6148  ,  58.305218,  73.85018 ,  95.49592 ,  95.34188 ,\n",
       "        59.771763,  72.00123 ,  91.99699 ,  60.32853 ,  96.902626,\n",
       "        96.24916 ,  58.454117,  85.66091 ,  60.283493,  81.85072 ,\n",
       "        93.47769 ,  88.28392 ,  82.019   ,  62.85982 ,  83.740585,\n",
       "        58.6083  ,  59.93648 ,  84.19132 , 146.9423  ,  49.757507,\n",
       "       119.98881 ,  95.49316 ,  96.35237 ,  71.97209 ,  81.72003 ,\n",
       "        58.312187,  75.411415,  70.42801 ,  98.11431 ,  89.67213 ,\n",
       "        89.69158 ,  70.087685, 145.7555  ,  78.59787 ], dtype=float32)"
      ]
     },
     "execution_count": 15,
     "metadata": {},
     "output_type": "execute_result"
    }
   ],
   "source": [
    "pred = pd.DataFrame(pred)\n",
    "pred = pred[0].values\n",
    "pred"
   ]
  },
  {
   "cell_type": "code",
   "execution_count": 16,
   "metadata": {},
   "outputs": [
    {
     "data": {
      "text/plain": [
       "Text(0.5, 1.0, 'RMSE: 8.9500')"
      ]
     },
     "execution_count": 16,
     "metadata": {},
     "output_type": "execute_result"
    },
    {
     "data": {
      "image/png": "[encoded data removed]",
      "text/plain": [
       "<Figure size 640x480 with 1 Axes>"
      ]
     },
     "metadata": {},
     "output_type": "display_data"
    }
   ],
   "source": [
    "y_test = label[test_idx]\n",
    "plt.scatter(y_test, pred)\n",
    "rmse = np.sqrt(np.mean((y_test - pred) ** 2))\n",
    "plt.title('RMSE: {:.4f}'.format(rmse))"
   ]
  },
  {
   "cell_type": "code",
   "execution_count": null,
   "metadata": {},
   "outputs": [],
   "source": []
  }
 ],
 "metadata": {
  "kernelspec": {
   "display_name": "base",
   "language": "python",
   "name": "python3"
  },
  "language_info": {
   "codemirror_mode": {
    "name": "ipython",
    "version": 3
   },
   "file_extension": ".py",
   "mimetype": "text/x-python",
   "name": "python",
   "nbconvert_exporter": "python",
   "pygments_lexer": "ipython3",
   "version": "3.10.9"
  },
  "orig_nbformat": 4
 },
 "nbformat": 4,
 "nbformat_minor": 2
}
