{
 "cells": [
  {
   "cell_type": "code",
   "execution_count": 76,
   "metadata": {},
   "outputs": [],
   "source": [
    "import cv2\n",
    "from torchvision import transforms\n",
    "from PIL import Image\n",
    "import numpy as np\n",
    "import matplotlib.pyplot as plt\n",
    "import os\n",
    "import glob\n",
    "import pandas as pd\n",
    "import warnings"
   ]
  },
  {
   "cell_type": "code",
   "execution_count": 77,
   "metadata": {},
   "outputs": [
    {
     "name": "stdout",
     "output_type": "stream",
     "text": [
      "C:\\Users\\se99a\\Documents\\GitHub\\Solar\\SEM_to_Reflectance\n"
     ]
    }
   ],
   "source": [
    "%cd C:\\Users\\se99a\\Documents\\GitHub\\Solar\\SEM_to_Reflectance"
   ]
  },
  {
   "cell_type": "code",
   "execution_count": 111,
   "metadata": {},
   "outputs": [],
   "source": [
    "def get_csvs(folder_path_list):\n",
    "    warnings.filterwarnings('ignore')\n",
    "    flag = 0\n",
    "    count = 1\n",
    "    for folder_path in folder_path_list:\n",
    "        csv_files = glob.glob(folder_path + '/*.csv')\n",
    "        if flag == 0:\n",
    "            dt = pd.read_csv(csv_files[0],encoding = 'utf-8', encoding_errors='ignore')\n",
    "            data_frame = pd.DataFrame(index = dt['TITLE'].values[18:199])\n",
    "            flag = 1\n",
    "        for csv_file in csv_files:\n",
    "            name = f'{folder_path.split(\"#\")[-1]}-' + csv_file.split('\\\\')[-1].split('.')[0]\n",
    "            dt = pd.read_csv(csv_file,encoding = 'utf-8', encoding_errors='ignore')\n",
    "            data_frame[name] = dt.iloc[:, 1].values[18:199]\n",
    "        count += 1\n",
    "    return data_frame"
   ]
  },
  {
   "cell_type": "code",
   "execution_count": 112,
   "metadata": {},
   "outputs": [
    {
     "data": {
      "text/plain": [
       "Index(['1-1-B', '1-1-F', '1-2-B', '1-2-F', '1-3-B', '1-3-F', '1-4-B', '1-4-F',\n",
       "       '1-5-B', '1-5-F',\n",
       "       ...\n",
       "       '14-14-1B', '14-14-1F', '14-14-2B', '14-14-2F', '14-14-3B', '14-14-3F',\n",
       "       '14-14-4B', '14-14-4F', '14-14-5B', '14-14-5F'],\n",
       "      dtype='object', length=140)"
      ]
     },
     "execution_count": 112,
     "metadata": {},
     "output_type": "execute_result"
    }
   ],
   "source": [
    "folder_path = [f'./Data_2/Tabular/#{i}' for i in range(1, 15)]\n",
    "data2_tabular = get_csvs(folder_path)\n",
    "data2_tabular.columns"
   ]
  },
  {
   "cell_type": "markdown",
   "metadata": {},
   "source": [
    "## Recipe 구분\n",
    "\n",
    "- 1~2 bare\n",
    "- 3~12 textured\n",
    "- 13~14 KOH_100"
   ]
  },
  {
   "cell_type": "code",
   "execution_count": 113,
   "metadata": {},
   "outputs": [],
   "source": [
    "bare_idx = ['1','2']\n",
    "textured_idx = ['3','4','5','6','7','8','9','10','11','12']\n",
    "KOH_idx = ['13','14']\n",
    "\n",
    "data2_bare = data2_tabular.iloc[:,[i for i in range(len(data2_tabular.columns)) if data2_tabular.columns[i].split('-')[0] in bare_idx]]\n",
    "data2_textured = data2_tabular.iloc[:,[i for i in range(len(data2_tabular.columns)) if data2_tabular.columns[i].split('-')[0] in textured_idx]]\n",
    "data2_KOH = data2_tabular.iloc[:,[i for i in range(len(data2_tabular.columns)) if data2_tabular.columns[i].split('-')[0] in KOH_idx]]"
   ]
  },
  {
   "cell_type": "code",
   "execution_count": 114,
   "metadata": {},
   "outputs": [],
   "source": [
    "transform = transforms.Compose([\n",
    "    transforms.Resize((256,256)),\n",
    "    transforms.CenterCrop(224),\n",
    "])"
   ]
  },
  {
   "cell_type": "code",
   "execution_count": null,
   "metadata": {},
   "outputs": [],
   "source": []
  }
 ],
 "metadata": {
  "kernelspec": {
   "display_name": "base",
   "language": "python",
   "name": "python3"
  },
  "language_info": {
   "codemirror_mode": {
    "name": "ipython",
    "version": 3
   },
   "file_extension": ".py",
   "mimetype": "text/x-python",
   "name": "python",
   "nbconvert_exporter": "python",
   "pygments_lexer": "ipython3",
   "version": "3.10.9"
  },
  "orig_nbformat": 4
 },
 "nbformat": 4,
 "nbformat_minor": 2
}
